{
  "nbformat": 4,
  "nbformat_minor": 0,
  "metadata": {
    "file_extension": ".py",
    "kernelspec": {
      "name": "python3",
      "display_name": "Python 3"
    },
    "mimetype": "text/x-python",
    "name": "python",
    "npconvert_exporter": "python",
    "pygments_lexer": "ipython3",
    "version": 3,
    "colab": {
      "name": "01_introduction.ipynb",
      "provenance": []
    }
  },
  "cells": [
    {
      "cell_type": "markdown",
      "metadata": {
        "id": "3HV3Smnxntau"
      },
      "source": [
        "# はじめに\n",
        "\n",
        "このチュートリアルでは**グラフの集合**に対するさまざまな計算を高速に実行するためのPythonライブラリである[Graphillion](https://github.com/takemaru/graphillion)を紹介します．Graphillionを用いることでグラフに対する以下のような計算を，数行のコードで簡単に実行できます．\n",
        "\n",
        "- グラフ中の2つの頂点を結ぶ経路のうち，特定の頂点を経由するものの個数を調べる\n",
        "- すべての頂点をたどる巡回路のうち，辺の重みの和が最長のものを求める．\n",
        "- 通信ネットワークが故障せずに動作する確率を計算する．\n",
        "\n",
        "これらの計算はすべて**NP困難**とよばれる，計算が難しい問題の一種であることが知られています．NP困難な問題を解くために必要な計算時間は問題サイズ対して指数的に増加します．そのため，問題サイズが大きくなると，現代の計算機では計算に年単位の時間がかかってしまうことも容易に起こりえます．Graphillionはこうした難しい計算を現実的な時間で解く機能を提供します．\n",
        "\n",
        "Graphillionの内部では**ゼロサプレス型二分決定グラフ (ZDD)** とよばれるデータ構造と，ZDDを用いた最先端のアルゴリズム技術が用いられています．このチュートリアルではGraphillionのなかでZDDがどのように扱われているかについても簡単に解説します．なお，GraphillionはZDDの存在を完全に隠蔽しているので，ユーザはZDDに関する知識がなくてもグラフの集合を直観的に扱うことができます．\n",
        "\n",
        "\n",
        "## このチュートリアルで学べること\n",
        "\n",
        "このチュートリアルを通じて以下を取得してもらうことを目標としています．\n",
        "\n",
        "- Graphillionの基本的な利用方法．\n",
        "- Graphillionが特に効果を発揮するユースケース．\n",
        "- Grapillionの動作原理．特にZDDが果たす役割について．\n",
        "\n",
        "## Graphillionの位置づけ\n",
        "\n",
        "グラフを扱うためのライブラリは多数存在します．たとえば [NetworkX](https://networkx.github.io/) はグラフをを扱うな代表的なPythonライブラリであり，グラフを対象とした様々なアルゴリズムの実行や可視化などの豊富な機能を有しています．\n",
        "\n",
        "Graphillionはグラフの集合の処理に特化した機能を提供するライブラリであり，NetworkXのような多様な機能は有していません．一方でグラフ集合の処理に関しては他のソフトウェアでは実現できない多数の機能を有しています．グラフ集合を扱うことで実現できることについては以降のチュートリアルで紹介します．\n",
        "\n",
        "なお，GraphillionはNetworkXと連携して利用することも可能です．たとえばGraphillionの実行結果をNetworkXに渡して，NetworkXの各種機能を利用することができます．\n",
        "\n",
        "## Google Colaboratoryの利用\n",
        "本チュートリアルで用いるプログラムはすべて[Google Colaboratory](https://colab.research.google.com/notebooks/intro.ipynb) （Colab）上で動かすことができます．Calabを用いることでPythonの実行環境を用意することなくGraphillionの機能を試すことができます．\n",
        "\n",
        "Colabを利用するためにはGoogleアカウントが必要となります．Colabはほとんどの主要なブラウザで動作します．最新バージョンのChrome, Firefox, Safariでは完全に動作することが検証されています．\n",
        "\n",
        "\n",
        "\n",
        "## アウトライン\n",
        "1. はじめに\n",
        "\n",
        "2. [グラフ入門](02_graph_theory.ipynb):  本チュートリアルを理解するために必要となるグラフ理論の基礎について説明します．グラフとは何か，なぜグラフ理論が有益なのかを簡単に説明します．既にグラフ理論に習熟されている方は読み飛ばしていただいて構いません．\n",
        "\n",
        "3. [グラフと組合せ爆発](03_graph_and_combinatorial_explosion.ipynb): グラフの問題を解く際，しばしば指数的に存在する部分グラフを扱わなければならない場面がでてきます．この章ではそのような組合せ爆発について解説します．\n",
        "\n",
        "4. [Graphillionに触れてみよう](04_graphillion_first_step.ipynb): いよいよGraphillionの説明に入ります．ま←あ有名な「数え上げお姉さん問題」を題材に，Graphillionを用いたグラフ集合処理の例を紹介します．\n",
        "\n",
        "5. [Graphillionの内部](05_graphillion_and_zdd.ipynb): Graphillionの内部ではZDDとよばれるデータ構造が利用されています．GraphillionはZDDを意識せずとも利用することができますが，Graphillionの挙動を理解するためにはZDDの理解が不可欠です．この章ではGraphillionにおいてZDDが果たす役割について説明します．\n",
        "\n",
        "6. [GraphSet](06_graph_set.ipynb): Graphillionではグラフの集合を表すGraphSetとよばれるオブジェクトを作成し，様々な操作を実行することができます．この章ではGraphSetに対して行える代表的な操作を紹介します．\n",
        "\n",
        "7. [Graphillionによる最適化](07_answering_path_query.ipynb): Graphillionを用いることで，グラフに関する最適化問題を解くことができます．この章ではGraphillionを用いて最適化問題を解く方法と，Graphillionが得意とする最適化問題の種類について説明します．\n",
        "8. [ネットワーク信頼性の計算](08_network_reliability.ipynb): Graphillionの機能を活用することで，ネットワークの故障に対する強さを調べることができます．\n",
        "9. [Graphillion 実践ガイド](09_practical_guide.ipynb) Graphillionで効率的に問題を解くための指針をいくつか紹介します．"
      ]
    }
  ]
}